{
 "cells": [
  {
   "cell_type": "code",
   "execution_count": 1,
   "metadata": {},
   "outputs": [],
   "source": [
    "import sys\n",
    "import bitfinex\n",
    "import datetime\n",
    "import time\n",
    "import pandas as pd\n",
    "from operator import itemgetter\n",
    "from functools import reduce\n",
    "import copy\n",
    "from pykalman import KalmanFilter\n",
    "from math import sqrt\n",
    "import statsmodels.api as sm\n",
    "\n",
    "import findspark\n",
    "findspark.init()\n",
    "import pyspark\n",
    "sc = pyspark.SparkContext(appName=\"hw\")\n",
    "import pyspark.sql.types as typ\n",
    "from pyspark.sql import SparkSession\n",
    "spark = SparkSession.builder.getOrCreate()\n",
    "from pyspark.sql.types import *\n",
    "import pyspark.sql.functions as fn\n",
    "import pyspark.mllib.stat as st\n",
    "import numpy as np\n",
    "import pyspark.mllib.linalg as ln\n",
    "import matplotlib.pyplot as plt"
   ]
  },
  {
   "cell_type": "code",
   "execution_count": 4,
   "metadata": {},
   "outputs": [
    {
     "name": "stdout",
     "output_type": "stream",
     "text": [
      "No keys, only access to public API functions\n",
      "No keys, only access to public API functions\n"
     ]
    }
   ],
   "source": [
    "def fetch_data(start, stop, symbol, interval, tick_limit, step):\n",
    "    # Create api instance\n",
    "    api_v2 = bitfinex.bitfinex_v2.api_v2()\n",
    "    data = []\n",
    "    start = start - step\n",
    "    while start < stop:\n",
    "        start = start + step\n",
    "        end = start + step\n",
    "        res = api_v2.candles(symbol=symbol, interval=interval,limit=tick_limit, start=start, end=end)\n",
    "        for x in res:\n",
    "            x[0] = datetime.datetime.utcfromtimestamp(x[0]/1000).strftime('%Y-%m-%d %H:%M:%S')\n",
    "            x[1:6] = [float(x) for x in x[1:6]]\n",
    "        data.extend(res)\n",
    "        time.sleep(2)\n",
    "    rdd = spark.sparkContext.parallelize(data)\n",
    "    return rdd\n",
    "\n",
    "\n",
    "# Define query parameters\n",
    "pairs = [# 'BTCUSD',\n",
    "        'ETHUSD'\n",
    "          ,#'LTCUSD', 'XMRUSD', 'NEOUSD', 'XRPUSD', \n",
    "        'ZECUSD'\n",
    "        ] \n",
    "bin_size = '30m' # This will return 60 minute data\n",
    "limit = 1000    # We want the maximum of 1000 data points\n",
    "# Define the start date\n",
    "t_start = datetime.datetime(2018, 1, 1, 0, 0)\n",
    "t_start = time.mktime(t_start.timetuple()) * 1000\n",
    "# Define the end date\n",
    "t_stop = datetime.datetime(2019, 9, 30, 0, 0)\n",
    "t_stop = time.mktime(t_stop.timetuple()) * 1000\n",
    "\n",
    "names = ['time', 'open', 'close', 'high', 'low', 'volume']\n",
    "\n",
    "time_step = 1800000000\n",
    "# temp_rdd=fetch_data(start=t_start, stop=t_stop, symbol='BTCUSD', interval=bin_size, tick_limit=limit, step=time_step)\n",
    "crypto_prices = [spark.createDataFrame(fetch_data(start=t_start, stop=t_stop, symbol=pair, interval=bin_size, tick_limit=limit, step=time_step), schema = names) for pair in pairs]"
   ]
  },
  {
   "cell_type": "code",
   "execution_count": 5,
   "metadata": {},
   "outputs": [
    {
     "name": "stdout",
     "output_type": "stream",
     "text": [
      "+-------------------+------+------+------+------+-------------+\n",
      "|               time|  open| close|  high|   low|       volume|\n",
      "+-------------------+------+------+------+------+-------------+\n",
      "|2018-01-22 04:00:00|1048.4|1064.4|1068.9|1047.3|5779.20938596|\n",
      "|2018-01-22 03:30:00|1039.6|1048.4|1048.9|1039.6|1575.82682239|\n",
      "|2018-01-22 03:00:00|1049.9|1039.7|1049.9|1036.6| 2001.3958468|\n",
      "|2018-01-22 02:30:00|1024.8|1050.0|1054.3|1022.7|5701.43520207|\n",
      "|2018-01-22 02:00:00|1039.4|1024.8|1040.0|1022.3|2101.99506447|\n",
      "|2018-01-22 01:30:00|1048.0|1039.0|1051.3|1035.1|1645.12710685|\n",
      "|2018-01-22 01:00:00|1065.0|1047.5|1065.0|1041.6|2196.51122932|\n",
      "|2018-01-22 00:30:00|1042.8|1065.0|1065.0|1041.1|2658.90312998|\n",
      "|2018-01-22 00:00:00|1047.7|1043.0|1058.0|1043.0|2985.81167932|\n",
      "|2018-01-21 23:30:00|1030.8|1047.7|1047.7|1030.8|2119.84035214|\n",
      "|2018-01-21 23:00:00|1012.0|1031.3|1033.1|1010.0|3025.59032264|\n",
      "|2018-01-21 22:30:00|1037.1|1012.0|1037.1|1008.3|1838.48056728|\n",
      "|2018-01-21 22:00:00|1028.8|1037.5|1049.4|1020.9|2895.42681717|\n",
      "|2018-01-21 21:30:00|1027.3|1028.8|1029.6|1010.0|1878.78224567|\n",
      "|2018-01-21 21:00:00|1006.5|1028.7|1031.0|1006.5|5240.28668119|\n",
      "|2018-01-21 20:30:00|1023.1|1006.4|1026.0|1001.0|  7759.922549|\n",
      "|2018-01-21 20:00:00|1046.4|1024.1|1046.7|1018.6|3632.33451121|\n",
      "|2018-01-21 19:30:00|1047.2|1046.4|1054.6|1040.4|1513.18832058|\n",
      "|2018-01-21 19:00:00|1038.3|1046.2|1049.9|1035.9|3967.96989777|\n",
      "|2018-01-21 18:30:00|1026.3|1039.2|1040.0|1023.4|2857.89429986|\n",
      "+-------------------+------+------+------+------+-------------+\n",
      "only showing top 20 rows\n",
      "\n"
     ]
    }
   ],
   "source": [
    "crypto_prices[0].show()"
   ]
  },
  {
   "cell_type": "code",
   "execution_count": 6,
   "metadata": {},
   "outputs": [],
   "source": [
    "copies = []\n",
    "for df in crypto_prices:\n",
    "    tempcopy = df.alias(\"tempcopy\")\n",
    "    copies.append(tempcopy)"
   ]
  },
  {
   "cell_type": "code",
   "execution_count": 7,
   "metadata": {},
   "outputs": [
    {
     "name": "stdout",
     "output_type": "stream",
     "text": [
      "+-------------------+------+------+------+------+-------------+\n",
      "|               time|  open| close|  high|   low|       volume|\n",
      "+-------------------+------+------+------+------+-------------+\n",
      "|2018-01-22 04:00:00| 489.0| 497.5| 500.0|488.91|  252.7763356|\n",
      "|2018-01-22 03:30:00|485.69| 489.5| 492.7|484.02|  224.0553545|\n",
      "|2018-01-22 03:00:00|490.05|485.56|491.52|478.96| 326.88270906|\n",
      "|2018-01-22 02:30:00|477.88|491.73|492.28|477.65|  77.16181271|\n",
      "|2018-01-22 02:00:00|482.78|477.88|482.78|477.68| 120.14767834|\n",
      "|2018-01-22 01:30:00|486.99| 483.3|486.99|475.86| 168.82992933|\n",
      "|2018-01-22 01:00:00|493.63| 486.7|494.23|484.63|  91.09073426|\n",
      "|2018-01-22 00:30:00|486.21|492.37|494.25|485.85| 131.94914807|\n",
      "|2018-01-22 00:00:00|486.56|486.46|494.66|485.11| 168.01993572|\n",
      "|2018-01-21 23:30:00|479.88|486.58|486.58|477.15| 111.71614282|\n",
      "|2018-01-21 23:00:00|475.48|476.44|480.87|473.98| 113.31197179|\n",
      "|2018-01-21 22:30:00|480.56|474.94|481.89|474.94|  155.2533084|\n",
      "|2018-01-21 22:00:00|477.91|481.46| 481.5|472.05| 148.43953279|\n",
      "|2018-01-21 21:30:00| 477.0|480.13|480.13|471.66|  87.89680487|\n",
      "|2018-01-21 21:00:00|474.19| 477.0|480.16|473.21| 317.63094297|\n",
      "|2018-01-21 20:30:00|480.67|471.62|483.21|471.62|1803.30362922|\n",
      "|2018-01-21 20:00:00|484.38| 480.0|484.38| 480.0|1018.38366969|\n",
      "|2018-01-21 19:30:00|486.24|483.59|486.58|480.86| 134.09654604|\n",
      "|2018-01-21 19:00:00|481.31|485.26|486.59| 480.3| 110.75488219|\n",
      "|2018-01-21 18:30:00|474.71| 481.4|481.98|472.97| 142.67745195|\n",
      "+-------------------+------+------+------+------+-------------+\n",
      "only showing top 20 rows\n",
      "\n"
     ]
    }
   ],
   "source": [
    "copies[1].show()"
   ]
  },
  {
   "cell_type": "code",
   "execution_count": 8,
   "metadata": {},
   "outputs": [],
   "source": [
    "clean_df_list = []\n",
    "pairs = [#'BTCUSD', \n",
    "         'ETHUSD'\n",
    "         , # 'LTCUSD', 'XMRUSD', 'NEOUSD', 'XRPUSD', \n",
    "         'ZECUSD'\n",
    "        ]\n",
    "for pair, df in zip(pairs, copies):\n",
    "    df = df.sort(\"time\")\n",
    "    df = df.select(\"time\", \"close\").withColumnRenamed(\"close\", pair)\n",
    "    clean_df_list.append(df)"
   ]
  },
  {
   "cell_type": "code",
   "execution_count": 9,
   "metadata": {},
   "outputs": [
    {
     "name": "stdout",
     "output_type": "stream",
     "text": [
      "+-------------------+------+\n",
      "|               time|ETHUSD|\n",
      "+-------------------+------+\n",
      "|2018-01-01 08:30:00|740.82|\n",
      "|2018-01-01 09:00:00| 746.0|\n",
      "|2018-01-01 09:30:00|748.79|\n",
      "|2018-01-01 10:00:00|753.41|\n",
      "|2018-01-01 10:30:00|755.05|\n",
      "|2018-01-01 11:00:00|735.51|\n",
      "|2018-01-01 11:30:00|739.96|\n",
      "|2018-01-01 12:00:00| 737.2|\n",
      "|2018-01-01 12:30:00|743.47|\n",
      "|2018-01-01 13:00:00|739.18|\n",
      "|2018-01-01 13:30:00|735.72|\n",
      "|2018-01-01 14:00:00|729.66|\n",
      "|2018-01-01 14:30:00|737.42|\n",
      "|2018-01-01 15:00:00|746.09|\n",
      "|2018-01-01 15:30:00|744.36|\n",
      "|2018-01-01 16:00:00|735.43|\n",
      "|2018-01-01 16:30:00|736.07|\n",
      "|2018-01-01 17:00:00|741.67|\n",
      "|2018-01-01 17:30:00|735.98|\n",
      "|2018-01-01 18:00:00|740.91|\n",
      "+-------------------+------+\n",
      "only showing top 20 rows\n",
      "\n"
     ]
    }
   ],
   "source": [
    "clean_df_list[0].show()"
   ]
  },
  {
   "cell_type": "code",
   "execution_count": 10,
   "metadata": {},
   "outputs": [
    {
     "name": "stdout",
     "output_type": "stream",
     "text": [
      "+-------------------+------+\n",
      "|               time|ZECUSD|\n",
      "+-------------------+------+\n",
      "|2018-01-01 08:30:00|482.52|\n",
      "|2018-01-01 09:00:00| 486.8|\n",
      "|2018-01-01 09:30:00|493.36|\n",
      "|2018-01-01 10:00:00|502.07|\n",
      "|2018-01-01 10:30:00|512.86|\n",
      "|2018-01-01 11:00:00| 488.0|\n",
      "|2018-01-01 11:30:00|511.41|\n",
      "|2018-01-01 12:00:00|501.04|\n",
      "|2018-01-01 12:30:00|501.01|\n",
      "|2018-01-01 13:00:00|498.22|\n",
      "|2018-01-01 13:30:00| 495.7|\n",
      "|2018-01-01 14:00:00|491.91|\n",
      "|2018-01-01 14:30:00|494.79|\n",
      "|2018-01-01 15:00:00| 497.0|\n",
      "|2018-01-01 15:30:00|497.59|\n",
      "|2018-01-01 16:00:00| 490.0|\n",
      "|2018-01-01 16:30:00|489.03|\n",
      "|2018-01-01 17:00:00|500.81|\n",
      "|2018-01-01 17:30:00|509.83|\n",
      "|2018-01-01 18:00:00|524.93|\n",
      "+-------------------+------+\n",
      "only showing top 20 rows\n",
      "\n"
     ]
    }
   ],
   "source": [
    "clean_df_list[1].show()"
   ]
  },
  {
   "cell_type": "code",
   "execution_count": 11,
   "metadata": {},
   "outputs": [],
   "source": [
    "combined_cryptos = reduce(lambda df1,df2: df1.join(df2, on=['time']), clean_df_list)"
   ]
  },
  {
   "cell_type": "code",
   "execution_count": 12,
   "metadata": {},
   "outputs": [
    {
     "name": "stdout",
     "output_type": "stream",
     "text": [
      "+-------------------+------+------+\n",
      "|               time|ETHUSD|ZECUSD|\n",
      "+-------------------+------+------+\n",
      "|2018-01-01 12:00:00| 737.2|501.04|\n",
      "|2018-01-02 18:30:00|855.01|546.91|\n",
      "|2018-01-03 19:30:00|922.36|548.82|\n",
      "|2018-01-06 07:00:00|993.05|552.54|\n",
      "|2018-01-11 11:00:00|1158.5| 605.4|\n",
      "|2018-01-14 11:00:00|1318.2|668.25|\n",
      "|2018-01-20 03:00:00|1061.6|525.18|\n",
      "|2018-01-23 12:00:00| 941.9| 416.0|\n",
      "|2018-02-09 14:00:00| 841.0|430.95|\n",
      "|2018-02-12 16:30:00|854.65|462.74|\n",
      "|2018-02-14 07:30:00| 868.0|459.62|\n",
      "|2018-02-16 20:30:00|933.56|471.52|\n",
      "|2018-02-17 00:30:00|940.56|479.54|\n",
      "|2018-02-23 16:30:00|843.45|403.88|\n",
      "|2018-03-10 05:30:00|733.96|311.09|\n",
      "|2018-03-12 18:00:00|699.22|285.63|\n",
      "|2018-03-23 17:30:00|525.95|247.94|\n",
      "|2018-03-26 14:30:00|484.83| 223.5|\n",
      "|2018-03-29 02:00:00| 444.2| 209.6|\n",
      "|2018-03-31 23:00:00|393.12|184.51|\n",
      "+-------------------+------+------+\n",
      "only showing top 20 rows\n",
      "\n"
     ]
    }
   ],
   "source": [
    "combined_cryptos.show()"
   ]
  },
  {
   "cell_type": "code",
   "execution_count": 26,
   "metadata": {},
   "outputs": [
    {
     "data": {
      "text/plain": [
       "12627"
      ]
     },
     "execution_count": 26,
     "metadata": {},
     "output_type": "execute_result"
    }
   ],
   "source": [
    "split = int(combined_cryptos.count() * .4)\n",
    "split"
   ]
  },
  {
   "cell_type": "code",
   "execution_count": 14,
   "metadata": {
    "scrolled": true
   },
   "outputs": [
    {
     "data": {
      "text/plain": [
       "dtype('O')"
      ]
     },
     "execution_count": 14,
     "metadata": {},
     "output_type": "execute_result"
    }
   ],
   "source": [
    "combined_pandas = combined_cryptos.toPandas()\n",
    "#combined_pandas\n",
    "combined_pandas['time'].dtypes"
   ]
  },
  {
   "cell_type": "code",
   "execution_count": 15,
   "metadata": {},
   "outputs": [],
   "source": [
    "combined_pandas['time'] = pd.to_datetime(combined_pandas['time'], format='%Y-%m-%d %H:%M:%S')\n",
    "combined_pandas.set_index(['time'],inplace=True)"
   ]
  },
  {
   "cell_type": "code",
   "execution_count": 16,
   "metadata": {},
   "outputs": [
    {
     "data": {
      "image/png": "[encoded data removed]",
      "text/plain": [
       "<Figure size 1440x720 with 1 Axes>"
      ]
     },
     "metadata": {
      "needs_background": "light"
     },
     "output_type": "display_data"
    }
   ],
   "source": [
    "combined_pandas.plot(figsize=(20,10));"
   ]
  },
  {
   "cell_type": "markdown",
   "metadata": {},
   "source": [
    "def find_cointegrated_pairs(dataframe, critial_level = 0.05):\n",
    "    n = dataframe.shape[1] # the length of dateframe\n",
    "    pvalue_matrix = np.ones((n, n)) # initialize the matrix of p\n",
    "    keys = dataframe.columns # get the column names\n",
    "    pairs = [] # initilize the list for cointegration\n",
    "    for i in range(1,n):\n",
    "        for j in range(i+1, n): # for j bigger than i\n",
    "            stock1 = dataframe[keys[i]] # obtain the price of \"stock1\"\n",
    "            stock2 = dataframe[keys[j]]# obtain the price of \"stock2\"\n",
    "            result = sm.tsa.stattools.coint(stock1, stock2) # get conintegration\n",
    "            pvalue = result[1] # get the pvalue\n",
    "            pvalue_matrix[i, j] = pvalue\n",
    "            if pvalue < critial_level: # if p-value less than the critical level\n",
    "                pairs.append((keys[i], keys[j], pvalue)) # record the contract with that p-value\n",
    "    return pvalue_matrix, pairs"
   ]
  },
  {
   "cell_type": "code",
   "execution_count": 47,
   "metadata": {},
   "outputs": [],
   "source": [
    "def find_cointegrated_pairs(dataframe, critial_level = 0.05):\n",
    "    n = dataframe.columns.shape[1] # the length of dateframe\n",
    "    pvalue_matrix = np.ones((n, n)) # initialize the matrix of p\n",
    "    keys = dataframe.schema.names # get the column names\n",
    "    pairs = [] # initilize the list for cointegration\n",
    "    for i in range(1,n):\n",
    "        for j in range(i+1, n): # for j bigger than i\n",
    "            stock1 = dataframe.select(keys[i]).rdd.flatMap(lambda x: x).collect() # obtain the price of \"stock1\"\n",
    "            stock2 = dataframe.select(keys[j]).rdd.flatMap(lambda x: x).collect() # obtain the price of \"stock2\"\n",
    "            result = sm.tsa.stattools.coint(stock1, stock2) # get conintegration\n",
    "            pvalue = result[1] # get the pvalue\n",
    "            pvalue_matrix[i, j] = pvalue\n",
    "            if pvalue < critial_level: # if p-value less than the critical level\n",
    "                pairs.append((keys[i], keys[j], pvalue)) # record the contract with that p-value\n",
    "    return pvalue_matrix, pairs"
   ]
  },
  {
   "cell_type": "code",
   "execution_count": 48,
   "metadata": {},
   "outputs": [
    {
     "data": {
      "text/plain": [
       "ETHUSD    12627\n",
       "ZECUSD    12627\n",
       "dtype: int32"
      ]
     },
     "execution_count": 48,
     "metadata": {},
     "output_type": "execute_result"
    }
   ],
   "source": [
    "split = (combined_pandas.count() * .4).astype(int)\n",
    "split"
   ]
  },
  {
   "cell_type": "code",
   "execution_count": 53,
   "metadata": {},
   "outputs": [
    {
     "ename": "AttributeError",
     "evalue": "'DataFrame' object has no attribute 'iloc'",
     "output_type": "error",
     "traceback": [
      "\u001b[1;31m---------------------------------------------------------------------------\u001b[0m",
      "\u001b[1;31mAttributeError\u001b[0m                            Traceback (most recent call last)",
      "\u001b[1;32m<ipython-input-53-c48c8bb4d025>\u001b[0m in \u001b[0;36m<module>\u001b[1;34m\u001b[0m\n\u001b[1;32m----> 1\u001b[1;33m \u001b[0mpvalue_matrix\u001b[0m\u001b[1;33m,\u001b[0m\u001b[0mpairs\u001b[0m \u001b[1;33m=\u001b[0m \u001b[0mfind_cointegrated_pairs\u001b[0m\u001b[1;33m(\u001b[0m\u001b[0mcombined_cryptos\u001b[0m\u001b[1;33m.\u001b[0m\u001b[0miloc\u001b[0m\u001b[1;33m[\u001b[0m\u001b[1;33m:\u001b[0m\u001b[0msplit\u001b[0m\u001b[1;33m]\u001b[0m\u001b[1;33m)\u001b[0m\u001b[1;33m\u001b[0m\u001b[1;33m\u001b[0m\u001b[0m\n\u001b[0m",
      "\u001b[1;32mC:\\Spark\\spark-3.0.1-bin-hadoop2.7\\python\\pyspark\\sql\\dataframe.py\u001b[0m in \u001b[0;36m__getattr__\u001b[1;34m(self, name)\u001b[0m\n\u001b[0;32m   1398\u001b[0m         \"\"\"\n\u001b[0;32m   1399\u001b[0m         \u001b[1;32mif\u001b[0m \u001b[0mname\u001b[0m \u001b[1;32mnot\u001b[0m \u001b[1;32min\u001b[0m \u001b[0mself\u001b[0m\u001b[1;33m.\u001b[0m\u001b[0mcolumns\u001b[0m\u001b[1;33m:\u001b[0m\u001b[1;33m\u001b[0m\u001b[1;33m\u001b[0m\u001b[0m\n\u001b[1;32m-> 1400\u001b[1;33m             raise AttributeError(\n\u001b[0m\u001b[0;32m   1401\u001b[0m                 \"'%s' object has no attribute '%s'\" % (self.__class__.__name__, name))\n\u001b[0;32m   1402\u001b[0m         \u001b[0mjc\u001b[0m \u001b[1;33m=\u001b[0m \u001b[0mself\u001b[0m\u001b[1;33m.\u001b[0m\u001b[0m_jdf\u001b[0m\u001b[1;33m.\u001b[0m\u001b[0mapply\u001b[0m\u001b[1;33m(\u001b[0m\u001b[0mname\u001b[0m\u001b[1;33m)\u001b[0m\u001b[1;33m\u001b[0m\u001b[1;33m\u001b[0m\u001b[0m\n",
      "\u001b[1;31mAttributeError\u001b[0m: 'DataFrame' object has no attribute 'iloc'"
     ]
    }
   ],
   "source": [
    "pvalue_matrix,pairs = find_cointegrated_pairs(combined_cryptos.iloc[:split])"
   ]
  },
  {
   "cell_type": "code",
   "execution_count": 37,
   "metadata": {},
   "outputs": [
    {
     "name": "stdout",
     "output_type": "stream",
     "text": [
      "+---+---+---+\n",
      "| _1| _2| _3|\n",
      "+---+---+---+\n",
      "|  1|  1|  1|\n",
      "|  1|  1|  0|\n",
      "|  1|  1|  1|\n",
      "+---+---+---+\n",
      "\n"
     ]
    }
   ],
   "source": [
    "#convert our matrix of stored results into a DataFrame\n",
    "rdd1 = sc.parallelize(pvalue_matrix)\n",
    "rdd2 = rdd1.map(lambda x: [int(i) for i in x])\n",
    "pvalue_matrix_spark = rdd2.toDF()\n",
    "pvalue_matrix_spark.show()"
   ]
  },
  {
   "cell_type": "code",
   "execution_count": 38,
   "metadata": {},
   "outputs": [
    {
     "name": "stdout",
     "output_type": "stream",
     "text": [
      "Stock ETHUSD and stock ZECUSD has a co-integration score of 0.0\n"
     ]
    }
   ],
   "source": [
    "for pair in pairs:\n",
    "    print(\"Stock {} and stock {} has a co-integration score of {}\".format(pair[0],pair[1],round(pair[2],4)))"
   ]
  },
  {
   "cell_type": "code",
   "execution_count": 21,
   "metadata": {},
   "outputs": [],
   "source": [
    "def KalmanFilterAverage(x):\n",
    "  # Construct a Kalman filter\n",
    "    kf = KalmanFilter(transition_matrices = [1],observation_matrices = [1],initial_state_mean = 0,\n",
    "    initial_state_covariance = 1,observation_covariance=1,transition_covariance=.01)\n",
    "  # Use the observed values of the price to get a rolling mean\n",
    "    state_means, _ = kf.filter(x.values)\n",
    "    state_means = pd.Series(state_means.flatten(), index=x.index)\n",
    "    return state_means\n",
    "\n",
    "# Kalman filter regression\n",
    "def KalmanFilterRegression(x,y):\n",
    "    delta = 1e-3\n",
    "    trans_cov = delta / (1 - delta) * np.eye(2) # How much random walk wiggles\n",
    "    obs_mat = np.expand_dims(np.vstack([[x], [np.ones(len(x))]]).T, axis=1)\n",
    "    kf = KalmanFilter(n_dim_obs=1, n_dim_state=2, # y is 1-dimensional, (alpha, beta) is 2-dimensional\n",
    "    initial_state_mean=[0,0],\n",
    "    initial_state_covariance=np.ones((2, 2)),\n",
    "    transition_matrices=np.eye(2),\n",
    "    observation_matrices=obs_mat,\n",
    "    observation_covariance=2,\n",
    "    transition_covariance=trans_cov)\n",
    "    # Use the observations y to get running estimates and errors for the state parameters\n",
    "    state_means, state_covs = kf.filter(y.values)\n",
    "    return state_means\n",
    "\n",
    "def half_life(spread):\n",
    "    spread_lag = spread.shift(1)\n",
    "    spread_lag.iloc[0] = spread_lag.iloc[1]\n",
    "    spread_ret = spread - spread_lag\n",
    "    spread_ret.iloc[0] = spread_ret.iloc[1]\n",
    "    spread_lag2 = sm.add_constant(spread_lag)\n",
    "    model = sm.OLS(spread_ret,spread_lag2)\n",
    "    res = model.fit()\n",
    "    halflife = int(round(-np.log(2) / res.params[1],0))\n",
    "    if halflife <= 0:\n",
    "        halflife = 1\n",
    "    return halflife"
   ]
  },
  {
   "cell_type": "code",
   "execution_count": 22,
   "metadata": {},
   "outputs": [],
   "source": [
    "def backtest(df,s1, s2):\n",
    "    #############################################################\n",
    "    # INPUT:\n",
    "    # DataFrame of prices\n",
    "    # s1: the symbol of contract one\n",
    "    # s2: the symbol of contract two\n",
    "    # x: the price series of contract one\n",
    "    # y: the price series of contract two\n",
    "    # OUTPUT:\n",
    "    # df1['cum rets']: cumulative returns in pandas data frame\n",
    "    # sharpe: Sharpe ratio\n",
    "    # CAGR: Compound Annual Growth Rate\n",
    "    x = df[s1]\n",
    "    y = df[s2]\n",
    "    # run regression (including Kalman Filter) to find hedge ratio and then create spread series\n",
    "    df1 = pd.DataFrame({'y':y,'x':x})\n",
    "    df1.index = pd.to_datetime(df1.index)\n",
    "    state_means = KalmanFilterRegression(KalmanFilterAverage(x),KalmanFilterAverage(y))\n",
    "    df1['hr'] = - state_means[:,0]\n",
    "    df1['spread'] = df1.y + (df1.x * df1.hr)\n",
    "    # calculate half life\n",
    "    halflife = half_life(df1['spread'])\n",
    "    # calculate z-score with window = half life period\n",
    "    meanSpread = df1.spread.rolling(window=halflife).mean()\n",
    "    stdSpread = df1.spread.rolling(window=halflife).std()\n",
    "    df1['zScore'] = (df1.spread-meanSpread)/stdSpread\n",
    "    ##############################################################\n",
    "    # trading logic\n",
    "    entryZscore = 2\n",
    "    exitZscore = 0\n",
    "    #set up num units long\n",
    "    df1['long entry'] = ((df1.zScore < - entryZscore) & ( df1.zScore.shift(1) > - entryZscore))\n",
    "    df1['long exit'] = ((df1.zScore > - exitZscore) & (df1.zScore.shift(1) < - exitZscore))\n",
    "    df1['num units long'] = np.nan \n",
    "    df1.loc[df1['long entry'],'num units long'] = 1 \n",
    "    df1.loc[df1['long exit'],'num units long'] = 0 \n",
    "    df1.loc[df1['num units long'][0]] = 0 \n",
    "    df1['num units long'] = df1['num units long'].fillna(method='pad') \n",
    "    #set up num units short \n",
    "    df1['short entry'] = ((df1.zScore > entryZscore) & ( df1.zScore.shift(1) < entryZscore))\n",
    "    df1['short exit'] = ((df1.zScore < exitZscore) & (df1.zScore.shift(1) > exitZscore))\n",
    "    df1.loc[df1['short entry'],'num units short'] = -1\n",
    "    df1.loc[df1['short exit'],'num units short'] = 0\n",
    "    df1.loc[df1['num units short'][0]] = 0\n",
    "    df1['num units short'] = df1['num units short'].fillna(method='pad')\n",
    "    df1['numUnits'] = df1['num units long'] + df1['num units short']\n",
    "    df1['spread pct ch'] = (df1['spread'] - df1['spread'].shift(1)) / ((df1['x'] * abs(df1['hr'])) + df1['y'])\n",
    "    df1['port rets'] = df1['spread pct ch'] * df1['numUnits'].shift(1)\n",
    "    df1['cum rets'] = df1['port rets'].cumsum()\n",
    "    df1['cum rets'] = df1['cum rets'] + 1\n",
    "    ##############################################################\n",
    "    try:\n",
    "        print(df1['port rets'].mean())\n",
    "        sharpe = ((df1['port rets'].mean() / df1['port rets'].std()) * sqrt(252))\n",
    "    except ZeroDivisionError:\n",
    "        sharpe = 0.0\n",
    "    ##############################################################\n",
    "    start_val = 1\n",
    "    end_val = df1['cum rets'].iat[-1]\n",
    "    start_date = df1.iloc[0].name\n",
    "    end_date = df1.iloc[-1].name\n",
    "    days = (end_date - start_date).days\n",
    "    CAGR = round(((float(end_val) / float(start_val)) ** (252.0/days)) - 1,4)\n",
    "    df1[s1+ \" \"+s2] = df1['cum rets']\n",
    "    return df1[s1+\" \"+s2], sharpe, CAGR"
   ]
  },
  {
   "cell_type": "code",
   "execution_count": 23,
   "metadata": {},
   "outputs": [
    {
     "name": "stdout",
     "output_type": "stream",
     "text": [
      "0.0\n",
      "The pair ETHUSD and ZECUSD produced a Sharpe Ratio of 0.0 and a CAGR of nan\n"
     ]
    }
   ],
   "source": [
    "results = []\n",
    "for pair in pairs:\n",
    "    rets, sharpe, CAGR = backtest(combined_pandas.iloc[split:],pair[0],pair[1])\n",
    "    results.append(rets)\n",
    "    print(\"The pair {} and {} produced a Sharpe Ratio of {} and a CAGR of {}\".format(pair[0],pair[1],round(sharpe,2),round(CAGR,4)))\n",
    "#     rets.plot(figsize=(20,15),legend=True)"
   ]
  },
  {
   "cell_type": "code",
   "execution_count": null,
   "metadata": {},
   "outputs": [],
   "source": []
  }
 ],
 "metadata": {
  "kernelspec": {
   "display_name": "Python 3",
   "language": "python",
   "name": "python3"
  },
  "language_info": {
   "codemirror_mode": {
    "name": "ipython",
    "version": 3
   },
   "file_extension": ".py",
   "mimetype": "text/x-python",
   "name": "python",
   "nbconvert_exporter": "python",
   "pygments_lexer": "ipython3",
   "version": "3.8.3"
  }
 },
 "nbformat": 4,
 "nbformat_minor": 4
}
